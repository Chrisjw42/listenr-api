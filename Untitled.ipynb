{
 "cells": [
  {
   "cell_type": "code",
   "execution_count": 10,
   "metadata": {},
   "outputs": [],
   "source": [
    "import json"
   ]
  },
  {
   "cell_type": "code",
   "execution_count": 11,
   "metadata": {},
   "outputs": [],
   "source": [
    "with open(\"dummy_result.json\") as fp:\n",
    "    abc = json.loads(fp.read())\n",
    "    ret = json.dumps(abc)\n",
    "    return ret"
   ]
  },
  {
   "cell_type": "code",
   "execution_count": 13,
   "metadata": {},
   "outputs": [
    {
     "data": {
      "text/plain": [
       "dict"
      ]
     },
     "execution_count": 13,
     "metadata": {},
     "output_type": "execute_result"
    }
   ],
   "source": [
    "type(abc)"
   ]
  },
  {
   "cell_type": "code",
   "execution_count": 16,
   "metadata": {},
   "outputs": [
    {
     "data": {
      "text/plain": [
       "str"
      ]
     },
     "execution_count": 16,
     "metadata": {},
     "output_type": "execute_result"
    }
   ],
   "source": [
    "type()"
   ]
  },
  {
   "cell_type": "code",
   "execution_count": 21,
   "metadata": {},
   "outputs": [],
   "source": [
    "import base64\n",
    "from datetime import datetime, timedelta\n",
    "import os\n",
    "\n",
    "active_users = []\n",
    "\n",
    "def is_user_active(id):\n",
    "    for i in active_users:\n",
    "        if i.id == id:\n",
    "            return True\n",
    "    return False\n",
    "\n",
    "class User():\n",
    "    id = \"\"\n",
    "    token = \"\"\n",
    "    token_expiration = datetime.now() - timedelta(seconds=1)\n",
    "\n",
    "    def __init__(self):\n",
    "        # Initialise a user with a unique ID\n",
    "        self.id = base64.b64encode(os.urandom(24)).decode('utf-8')\n",
    "\n",
    "    def get_token(self, expires_in=86400):\n",
    "        now = datetime.utcnow()\n",
    "        if self.token and self.token_expiration > now + timedelta(seconds=60):\n",
    "            return self.token\n",
    "        \n",
    "        # Generate a new token\n",
    "        self.token = base64.b64encode(os.urandom(24)).decode('utf-8')\n",
    "        self.token_expiration = now + timedelta(seconds=expires_in)\n",
    "        return self.token\n",
    "\n",
    "    def revoke_token(self):\n",
    "        self.token_expiration = datetime.utcnow() - timedelta(seconds=1)\n",
    "\n",
    "#     @staticmethod\n",
    "    def check_token(self, token):\n",
    "#         user = User.query.filter_by(token=token).first()\n",
    "        if token != self.token or self.token_expiration < datetime.utcnow():\n",
    "            return None\n",
    "        return self"
   ]
  },
  {
   "cell_type": "code",
   "execution_count": 22,
   "metadata": {},
   "outputs": [],
   "source": [
    "ab = User()"
   ]
  },
  {
   "cell_type": "code",
   "execution_count": 26,
   "metadata": {},
   "outputs": [
    {
     "data": {
      "text/plain": [
       "'FSbldjVpcMBESZQqfArQsi8yMzCpqqcv'"
      ]
     },
     "execution_count": 26,
     "metadata": {},
     "output_type": "execute_result"
    }
   ],
   "source": [
    "ab.id"
   ]
  },
  {
   "cell_type": "code",
   "execution_count": 20,
   "metadata": {},
   "outputs": [],
   "source": [
    "users = [ab, User()]"
   ]
  }
 ],
 "metadata": {
  "kernelspec": {
   "display_name": "Python 3",
   "language": "python",
   "name": "python3"
  },
  "language_info": {
   "codemirror_mode": {
    "name": "ipython",
    "version": 3
   },
   "file_extension": ".py",
   "mimetype": "text/x-python",
   "name": "python",
   "nbconvert_exporter": "python",
   "pygments_lexer": "ipython3",
   "version": "3.7.0"
  }
 },
 "nbformat": 4,
 "nbformat_minor": 2
}
